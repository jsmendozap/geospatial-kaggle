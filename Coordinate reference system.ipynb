{
 "cells": [
  {
   "cell_type": "markdown",
   "source": [
    "# Management of Coordinate reference system in python"
   ],
   "metadata": {
    "collapsed": false
   }
  },
  {
   "cell_type": "markdown",
   "source": [
    "When we have a csv file with geographic data (latitude and longitude), we can create a geodataframe from it and set the coordinate reference system"
   ],
   "metadata": {
    "collapsed": false
   }
  },
  {
   "cell_type": "code",
   "execution_count": 1,
   "metadata": {
    "collapsed": true
   },
   "outputs": [
    {
     "data": {
      "text/plain": "             timestamp  location-long  location-lat  tag-local-identifier\n0  2014-08-15 05:56:00     -88.146014     17.513049                 30448\n1  2014-09-01 05:59:00     -85.243501     13.095782                 30448\n2  2014-10-30 23:58:00     -62.906089     -7.852436                 30448\n3  2014-11-15 04:59:00     -61.776826    -11.723898                 30448\n4  2014-11-30 09:59:00     -61.241538    -11.612237                 30448",
      "text/html": "<div>\n<style scoped>\n    .dataframe tbody tr th:only-of-type {\n        vertical-align: middle;\n    }\n\n    .dataframe tbody tr th {\n        vertical-align: top;\n    }\n\n    .dataframe thead th {\n        text-align: right;\n    }\n</style>\n<table border=\"1\" class=\"dataframe\">\n  <thead>\n    <tr style=\"text-align: right;\">\n      <th></th>\n      <th>timestamp</th>\n      <th>location-long</th>\n      <th>location-lat</th>\n      <th>tag-local-identifier</th>\n    </tr>\n  </thead>\n  <tbody>\n    <tr>\n      <th>0</th>\n      <td>2014-08-15 05:56:00</td>\n      <td>-88.146014</td>\n      <td>17.513049</td>\n      <td>30448</td>\n    </tr>\n    <tr>\n      <th>1</th>\n      <td>2014-09-01 05:59:00</td>\n      <td>-85.243501</td>\n      <td>13.095782</td>\n      <td>30448</td>\n    </tr>\n    <tr>\n      <th>2</th>\n      <td>2014-10-30 23:58:00</td>\n      <td>-62.906089</td>\n      <td>-7.852436</td>\n      <td>30448</td>\n    </tr>\n    <tr>\n      <th>3</th>\n      <td>2014-11-15 04:59:00</td>\n      <td>-61.776826</td>\n      <td>-11.723898</td>\n      <td>30448</td>\n    </tr>\n    <tr>\n      <th>4</th>\n      <td>2014-11-30 09:59:00</td>\n      <td>-61.241538</td>\n      <td>-11.612237</td>\n      <td>30448</td>\n    </tr>\n  </tbody>\n</table>\n</div>"
     },
     "execution_count": 1,
     "metadata": {},
     "output_type": "execute_result"
    }
   ],
   "source": [
    "import pandas as pd\n",
    "import geopandas as gpd\n",
    "\n",
    "df = pd.read_csv('data/purple_martin.csv')\n",
    "df.head()"
   ]
  },
  {
   "cell_type": "markdown",
   "source": [
    "In this case we have two columns that indicate the geographic location, but these columns aren't in the adequate format inside of python, so we have to create the geodataframe and indicate what are these columns with the method **gpd.points_from_xy(<<longitud>>, <<latitud>>)**\n",
    "\n",
    "The method *GeoDataFrame* receive **three** mains arguments:\n",
    "- data: Indicating el data frame that contain the data.\n",
    "- geometry: Indicating the column that have the geometry or the latitude, longitude columns from which the geometry will be created.\n",
    "- crs: Indicating the coordinate reference system."
   ],
   "metadata": {
    "collapsed": false
   }
  },
  {
   "cell_type": "code",
   "execution_count": 4,
   "outputs": [
    {
     "data": {
      "text/plain": "              timestamp  location-long  location-lat  tag-local-identifier  \\\n0   2014-08-15 05:56:00     -88.146014     17.513049                 30448   \n1   2014-09-01 05:59:00     -85.243501     13.095782                 30448   \n2   2014-10-30 23:58:00     -62.906089     -7.852436                 30448   \n3   2014-11-15 04:59:00     -61.776826    -11.723898                 30448   \n4   2014-11-30 09:59:00     -61.241538    -11.612237                 30448   \n..                  ...            ...           ...                   ...   \n94  2014-12-30 19:59:00     -50.709645     -9.572583                 30263   \n95  2015-01-14 23:59:00     -49.292113     -8.392265                 30263   \n96  2015-01-30 03:59:00     -49.081317     -5.413250                 30263   \n97  2015-02-14 07:59:00     -49.081245     -5.413251                 30263   \n98  2015-03-01 11:59:00     -50.192297     -5.705042                 30263   \n\n                       geometry  \n0    POINT (-88.14601 17.51305)  \n1    POINT (-85.24350 13.09578)  \n2    POINT (-62.90609 -7.85244)  \n3   POINT (-61.77683 -11.72390)  \n4   POINT (-61.24154 -11.61224)  \n..                          ...  \n94   POINT (-50.70964 -9.57258)  \n95   POINT (-49.29211 -8.39226)  \n96   POINT (-49.08132 -5.41325)  \n97   POINT (-49.08125 -5.41325)  \n98   POINT (-50.19230 -5.70504)  \n\n[99 rows x 5 columns]",
      "text/html": "<div>\n<style scoped>\n    .dataframe tbody tr th:only-of-type {\n        vertical-align: middle;\n    }\n\n    .dataframe tbody tr th {\n        vertical-align: top;\n    }\n\n    .dataframe thead th {\n        text-align: right;\n    }\n</style>\n<table border=\"1\" class=\"dataframe\">\n  <thead>\n    <tr style=\"text-align: right;\">\n      <th></th>\n      <th>timestamp</th>\n      <th>location-long</th>\n      <th>location-lat</th>\n      <th>tag-local-identifier</th>\n      <th>geometry</th>\n    </tr>\n  </thead>\n  <tbody>\n    <tr>\n      <th>0</th>\n      <td>2014-08-15 05:56:00</td>\n      <td>-88.146014</td>\n      <td>17.513049</td>\n      <td>30448</td>\n      <td>POINT (-88.14601 17.51305)</td>\n    </tr>\n    <tr>\n      <th>1</th>\n      <td>2014-09-01 05:59:00</td>\n      <td>-85.243501</td>\n      <td>13.095782</td>\n      <td>30448</td>\n      <td>POINT (-85.24350 13.09578)</td>\n    </tr>\n    <tr>\n      <th>2</th>\n      <td>2014-10-30 23:58:00</td>\n      <td>-62.906089</td>\n      <td>-7.852436</td>\n      <td>30448</td>\n      <td>POINT (-62.90609 -7.85244)</td>\n    </tr>\n    <tr>\n      <th>3</th>\n      <td>2014-11-15 04:59:00</td>\n      <td>-61.776826</td>\n      <td>-11.723898</td>\n      <td>30448</td>\n      <td>POINT (-61.77683 -11.72390)</td>\n    </tr>\n    <tr>\n      <th>4</th>\n      <td>2014-11-30 09:59:00</td>\n      <td>-61.241538</td>\n      <td>-11.612237</td>\n      <td>30448</td>\n      <td>POINT (-61.24154 -11.61224)</td>\n    </tr>\n    <tr>\n      <th>...</th>\n      <td>...</td>\n      <td>...</td>\n      <td>...</td>\n      <td>...</td>\n      <td>...</td>\n    </tr>\n    <tr>\n      <th>94</th>\n      <td>2014-12-30 19:59:00</td>\n      <td>-50.709645</td>\n      <td>-9.572583</td>\n      <td>30263</td>\n      <td>POINT (-50.70964 -9.57258)</td>\n    </tr>\n    <tr>\n      <th>95</th>\n      <td>2015-01-14 23:59:00</td>\n      <td>-49.292113</td>\n      <td>-8.392265</td>\n      <td>30263</td>\n      <td>POINT (-49.29211 -8.39226)</td>\n    </tr>\n    <tr>\n      <th>96</th>\n      <td>2015-01-30 03:59:00</td>\n      <td>-49.081317</td>\n      <td>-5.413250</td>\n      <td>30263</td>\n      <td>POINT (-49.08132 -5.41325)</td>\n    </tr>\n    <tr>\n      <th>97</th>\n      <td>2015-02-14 07:59:00</td>\n      <td>-49.081245</td>\n      <td>-5.413251</td>\n      <td>30263</td>\n      <td>POINT (-49.08125 -5.41325)</td>\n    </tr>\n    <tr>\n      <th>98</th>\n      <td>2015-03-01 11:59:00</td>\n      <td>-50.192297</td>\n      <td>-5.705042</td>\n      <td>30263</td>\n      <td>POINT (-50.19230 -5.70504)</td>\n    </tr>\n  </tbody>\n</table>\n<p>99 rows × 5 columns</p>\n</div>"
     },
     "execution_count": 4,
     "metadata": {},
     "output_type": "execute_result"
    }
   ],
   "source": [
    "df = gpd.GeoDataFrame(data = df,\n",
    "                      geometry = gpd.points_from_xy(df['location-long'], df['location-lat']),\n",
    "                      crs=4326)\n",
    "df"
   ],
   "metadata": {
    "collapsed": false,
    "pycharm": {
     "name": "#%%\n"
    }
   }
  },
  {
   "cell_type": "markdown",
   "source": [],
   "metadata": {
    "collapsed": false
   }
  },
  {
   "cell_type": "markdown",
   "source": [
    "If i want to get the coordinate reference system of the map, I can use the **crs** attribute"
   ],
   "metadata": {
    "collapsed": false
   }
  },
  {
   "cell_type": "code",
   "execution_count": 6,
   "outputs": [
    {
     "data": {
      "text/plain": "<Geographic 2D CRS: EPSG:4326>\nName: WGS 84\nAxis Info [ellipsoidal]:\n- Lat[north]: Geodetic latitude (degree)\n- Lon[east]: Geodetic longitude (degree)\nArea of Use:\n- name: World.\n- bounds: (-180.0, -90.0, 180.0, 90.0)\nDatum: World Geodetic System 1984 ensemble\n- Ellipsoid: WGS 84\n- Prime Meridian: Greenwich"
     },
     "execution_count": 6,
     "metadata": {},
     "output_type": "execute_result"
    }
   ],
   "source": [
    "df.crs"
   ],
   "metadata": {
    "collapsed": false,
    "pycharm": {
     "name": "#%%\n"
    }
   }
  },
  {
   "cell_type": "markdown",
   "source": [
    "And i can change the default coordinate reference system through the use of **to_crs()** method."
   ],
   "metadata": {
    "collapsed": false
   }
  },
  {
   "cell_type": "code",
   "source": [
    "df.to_crs(epsg=3035, inplace = True)\n",
    "df.crs"
   ],
   "metadata": {
    "collapsed": false,
    "pycharm": {
     "name": "#%%\n"
    }
   },
   "execution_count": 7,
   "outputs": [
    {
     "data": {
      "text/plain": "<Derived Projected CRS: EPSG:3035>\nName: ETRS89-extended / LAEA Europe\nAxis Info [cartesian]:\n- Y[north]: Northing (metre)\n- X[east]: Easting (metre)\nArea of Use:\n- name: Europe - European Union (EU) countries and candidates. Europe - onshore and offshore: Albania; Andorra; Austria; Belgium; Bosnia and Herzegovina; Bulgaria; Croatia; Cyprus; Czechia; Denmark; Estonia; Faroe Islands; Finland; France; Germany; Gibraltar; Greece; Hungary; Iceland; Ireland; Italy; Kosovo; Latvia; Liechtenstein; Lithuania; Luxembourg; Malta; Monaco; Montenegro; Netherlands; North Macedonia; Norway including Svalbard and Jan Mayen; Poland; Portugal including Madeira and Azores; Romania; San Marino; Serbia; Slovakia; Slovenia; Spain including Canary Islands; Sweden; Switzerland; Turkey; United Kingdom (UK) including Channel Islands and Isle of Man; Vatican City State.\n- bounds: (-35.58, 24.6, 44.83, 84.73)\nCoordinate Operation:\n- name: Europe Equal Area 2001\n- method: Lambert Azimuthal Equal Area\nDatum: European Terrestrial Reference System 1989 ensemble\n- Ellipsoid: GRS 1980\n- Prime Meridian: Greenwich"
     },
     "execution_count": 7,
     "metadata": {},
     "output_type": "execute_result"
    }
   ]
  },
  {
   "cell_type": "code",
   "execution_count": null,
   "outputs": [],
   "source": [],
   "metadata": {
    "collapsed": false,
    "pycharm": {
     "name": "#%%\n"
    }
   }
  }
 ],
 "metadata": {
  "kernelspec": {
   "display_name": "Python 3",
   "language": "python",
   "name": "python3"
  },
  "language_info": {
   "codemirror_mode": {
    "name": "ipython",
    "version": 2
   },
   "file_extension": ".py",
   "mimetype": "text/x-python",
   "name": "python",
   "nbconvert_exporter": "python",
   "pygments_lexer": "ipython2",
   "version": "2.7.6"
  }
 },
 "nbformat": 4,
 "nbformat_minor": 0
}